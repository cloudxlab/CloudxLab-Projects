{
  "nbformat": 4,
  "nbformat_minor": 0,
  "metadata": {
    "kernelspec": {
      "display_name": "tensorflow2",
      "language": "python",
      "name": "tensorflow2"
    },
    "language_info": {
      "codemirror_mode": {
        "name": "ipython",
        "version": 3
      },
      "file_extension": ".py",
      "mimetype": "text/x-python",
      "name": "python",
      "nbconvert_exporter": "python",
      "pygments_lexer": "ipython3",
      "version": "3.6.8"
    },
    "toc": {
      "base_numbering": 1,
      "nav_menu": {},
      "number_sections": true,
      "sideBar": true,
      "skip_h1_title": false,
      "title_cell": "Table of Contents",
      "title_sidebar": "Contents",
      "toc_cell": false,
      "toc_position": {},
      "toc_section_display": true,
      "toc_window_display": false
    },
    "colab": {
      "name": "8. Object Detection and Segmentation with OpenCV and Tensorflow mask RCNN",
      "provenance": [],
      "collapsed_sections": []
    }
  },
  "cells": [
    {
      "cell_type": "markdown",
      "metadata": {
        "id": "xNS5QTsZCU0l"
      },
      "source": [
        "## Object Detection and Segmentation with OpenCV and Tensorflow mask RCNN"
      ]
    },
    {
      "cell_type": "markdown",
      "metadata": {
        "id": "dolqgQs8CU0n"
      },
      "source": [
        "Here we show how to detect and also segment images based on Tensorflow based models. Detection is identifying a bounding box, instance segmentation requires identifying the pixels can belong to the object.\n",
        "\n",
        "We use R-Mask CNN model with inception 2. The R-CNN is does detection in multiple stage with multiple CNN passes. At first it generated proposal regions  by studying pixel gradients and edges. Classification is run on each proposal. The final results and bounding boxes are then obtained post-processing of the individual results."
      ]
    },
    {
      "cell_type": "code",
      "metadata": {
        "id": "1Q1PN2E4CU0q",
        "outputId": "cb0327ac-73cc-4196-caf3-3ac6250a7947",
        "colab": {
          "base_uri": "https://localhost:8080/"
        }
      },
      "source": [
        "import numpy as np\n",
        "import cv2 as cv2\n",
        "print(\"cv2 version:\",cv2.__version__)\n",
        "# import os\n",
        "\n",
        "# %matplotlib inline\n",
        "# import matplotlib as mpl\n",
        "import matplotlib.pyplot as plt\n",
        "# mpl.rc('axes', labelsize=14)\n",
        "# mpl.rc('xtick', labelsize=12)\n",
        "# mpl.rc('ytick', labelsize=12)\n",
        "\n",
        "#Routine to fix \n",
        "def fixColor(image):\n",
        "    return(cv2.cvtColor(image, cv2.COLOR_BGR2RGB))"
      ],
      "execution_count": null,
      "outputs": [
        {
          "output_type": "stream",
          "text": [
            "cv2 version: 4.1.2\n"
          ],
          "name": "stdout"
        }
      ]
    },
    {
      "cell_type": "code",
      "metadata": {
        "id": "c29ckrt1CkuG",
        "outputId": "a0a1057f-d00d-443c-8f55-e506f9d24c75",
        "colab": {
          "base_uri": "https://localhost:8080/"
        }
      },
      "source": [
        "np.random.randint(0, 255, size=((10), 3))"
      ],
      "execution_count": null,
      "outputs": [
        {
          "output_type": "execute_result",
          "data": {
            "text/plain": [
              "array([[ 59,  13, 241],\n",
              "       [249,   8,  89],\n",
              "       [ 52, 129,  83],\n",
              "       [ 91, 110, 187],\n",
              "       [198, 171, 252],\n",
              "       [  7, 174,  34],\n",
              "       [205,  80, 163],\n",
              "       [ 49, 103, 131],\n",
              "       [  1, 253, 133],\n",
              "       [ 53, 105,   3]])"
            ]
          },
          "metadata": {
            "tags": []
          },
          "execution_count": 77
        }
      ]
    },
    {
      "cell_type": "markdown",
      "metadata": {
        "id": "pX-THe8R34J4"
      },
      "source": [
        "## Getting the class names"
      ]
    },
    {
      "cell_type": "markdown",
      "metadata": {
        "id": "Sc5linfLCU1M"
      },
      "source": [
        "In this section we will read the coco labels file. This file contains the labels of the object the model was trained against. We will also create a COLORS array which will give a different color for each label. Note coco has 90 labels by default."
      ]
    },
    {
      "cell_type": "code",
      "metadata": {
        "id": "EDGlp9RL3sVR"
      },
      "source": [
        "# !wget https://raw.githubusercontent.com/vagdevik/iitr-deep-learning-spl-tf2/master/computer_vision_cnn/model_data/object_detection_classes_coco.txt"
      ],
      "execution_count": null,
      "outputs": []
    },
    {
      "cell_type": "code",
      "metadata": {
        "id": "Regu4hErCU1O"
      },
      "source": [
        "label_file=\"/content/object_detection_classes_coco.txt\"\n",
        "LABELS = open(label_file).read().strip().split(\"\\n\")\n",
        "np.random.seed(42) #Set seed so that we get the same results everytime\n",
        "COLORS = np.random.randint(0, 255, size=(len(LABELS), 3),\n",
        "\tdtype=\"uint8\")"
      ],
      "execution_count": null,
      "outputs": []
    },
    {
      "cell_type": "code",
      "metadata": {
        "id": "zqYz1AC4TWrw",
        "outputId": "2db2ce7b-d1e5-4246-d60c-987f5c44f351",
        "colab": {
          "base_uri": "https://localhost:8080/"
        }
      },
      "source": [
        "COLORS.shape==(90, 3)"
      ],
      "execution_count": null,
      "outputs": [
        {
          "output_type": "execute_result",
          "data": {
            "text/plain": [
              "True"
            ]
          },
          "metadata": {
            "tags": []
          },
          "execution_count": 80
        }
      ]
    },
    {
      "cell_type": "code",
      "metadata": {
        "id": "CHaXDBnzCU1d"
      },
      "source": [
        "threshold=0.9"
      ],
      "execution_count": null,
      "outputs": []
    },
    {
      "cell_type": "markdown",
      "metadata": {
        "id": "KBYuOIPWW859"
      },
      "source": [
        "Lets take a look at 5 of the `LABELS`."
      ]
    },
    {
      "cell_type": "code",
      "metadata": {
        "id": "dcnA7pfD8lCW",
        "outputId": "418450ea-24ca-437f-bd4f-5e9d90d88dda",
        "colab": {
          "base_uri": "https://localhost:8080/"
        }
      },
      "source": [
        "LABELS[:5]"
      ],
      "execution_count": null,
      "outputs": [
        {
          "output_type": "execute_result",
          "data": {
            "text/plain": [
              "['person', 'bicycle', 'car', 'motorcycle', 'airplane']"
            ]
          },
          "metadata": {
            "tags": []
          },
          "execution_count": 82
        }
      ]
    },
    {
      "cell_type": "markdown",
      "metadata": {
        "id": "k5B0ulBeCU1l"
      },
      "source": [
        "The DNN module from CV2 supports reading of tensorflow trained object detection models. We need to load the weight and config for this. For more on this topic refer to \n",
        "https://github.com/opencv/opencv/wiki/TensorFlow-Object-Detection-API"
      ]
    },
    {
      "cell_type": "markdown",
      "metadata": {
        "id": "Xnrgj32q37VM"
      },
      "source": [
        "## Getting the Weights and Configs of the Network"
      ]
    },
    {
      "cell_type": "code",
      "metadata": {
        "id": "IuIin2LI4fnU"
      },
      "source": [
        "# !wget https://raw.githubusercontent.com/vagdevik/iitr-deep-learning-spl-tf2/master/computer_vision_cnn/model_data/mask_rcnn_inception_v2_coco_2018_01_28.pbtxt"
      ],
      "execution_count": null,
      "outputs": []
    },
    {
      "cell_type": "code",
      "metadata": {
        "id": "tsQ0FxtxCU1u"
      },
      "source": [
        "weights=\"/content/mask_rcnn_frozen_inference_graph.pb\"\n",
        "config=\"/content/mask_rcnn_inception_v2_coco_2018_01_28.pbtxt\""
      ],
      "execution_count": null,
      "outputs": []
    },
    {
      "cell_type": "code",
      "metadata": {
        "id": "oWRexUDvqDzh",
        "outputId": "040cd3d9-cd45-45c1-984b-fcb4d0409524",
        "colab": {
          "base_uri": "https://localhost:8080/"
        }
      },
      "source": [
        "print(weights==\"/content/mask_rcnn_frozen_inference_graph.pb\")\n",
        "config==\"/content/mask_rcnn_inception_v2_coco_2018_01_28.pbtxt\""
      ],
      "execution_count": null,
      "outputs": [
        {
          "output_type": "stream",
          "text": [
            "True\n"
          ],
          "name": "stdout"
        },
        {
          "output_type": "execute_result",
          "data": {
            "text/plain": [
              "True"
            ]
          },
          "metadata": {
            "tags": []
          },
          "execution_count": 85
        }
      ]
    },
    {
      "cell_type": "code",
      "metadata": {
        "id": "lFX1Kbz57KS4",
        "outputId": "03343054-7925-4ca1-cac8-92749988befd",
        "colab": {
          "base_uri": "https://localhost:8080/"
        }
      },
      "source": [
        "!head -10 /content/mask_rcnn_frozen_inference_graph.pb"
      ],
      "execution_count": null,
      "outputs": [
        {
          "output_type": "stream",
          "text": [
            "\n",
            ":\n",
            "\u0005Const\u0012\u0005Const*\u001d\n",
            "\u0005value\u0012\u0014B\u0012\b\u0003\u0012\u0004\u0012\u0002\b\u0002\"\b\u0000\u0001\u0000\u0000\u0000\u0001\u0000\u0000*\u000b\n",
            "\u0005dtype\u0012\u00020\u0003\n",
            ".\n",
            "\u0007ToFloat\u0012\u0004Cast\u001a\u0005Const*\n",
            "\n",
            "\u0004SrcT\u0012\u00020\u0003*\n",
            "\n"
          ],
          "name": "stdout"
        }
      ]
    },
    {
      "cell_type": "markdown",
      "metadata": {
        "id": "B7BpjBibED8P"
      },
      "source": [
        "**Note:**\n",
        "\n",
        "- `cv2.dnn.readNetFromTensorflow(weights, config)` : Reads a network model stored in TensorFlow framework's format.\n",
        " \n",
        "  - `weights`\t: path to the `.pb` file with binary protobuf description of the network architecture\n",
        " - `config` : path to the `.pbtxt` file that contains text graph definition in protobuf format. Resulting Net object is built by text graph using weights from a binary one that let us make it more flexible."
      ]
    },
    {
      "cell_type": "code",
      "metadata": {
        "id": "YDS0sF5JCU1_"
      },
      "source": [
        "net = cv2.dnn.readNetFromTensorflow(weights, config)"
      ],
      "execution_count": null,
      "outputs": []
    },
    {
      "cell_type": "code",
      "metadata": {
        "id": "M5Soo6HSqY_n",
        "outputId": "c6a8e633-3da2-481f-a13b-303f7a1e592a",
        "colab": {
          "base_uri": "https://localhost:8080/"
        }
      },
      "source": [
        "str(type(net))==\"<class 'cv2.dnn_Net'>\""
      ],
      "execution_count": null,
      "outputs": [
        {
          "output_type": "execute_result",
          "data": {
            "text/plain": [
              "True"
            ]
          },
          "metadata": {
            "tags": []
          },
          "execution_count": 88
        }
      ]
    },
    {
      "cell_type": "markdown",
      "metadata": {
        "id": "PXZud29JCU3Y"
      },
      "source": [
        "Reading the image file and converting it to a blob for processing."
      ]
    },
    {
      "cell_type": "code",
      "metadata": {
        "id": "AisLyfP6XRbJ"
      },
      "source": [
        "# !wget https://raw.githubusercontent.com/vagdevik/iitr-deep-learning-spl-tf2/master/computer_vision_cnn/images/dining_table.jpg"
      ],
      "execution_count": null,
      "outputs": []
    },
    {
      "cell_type": "code",
      "metadata": {
        "id": "HDHNLyRvCU3a"
      },
      "source": [
        "img = cv2.imread('/content/dining_table.jpg')"
      ],
      "execution_count": null,
      "outputs": []
    },
    {
      "cell_type": "markdown",
      "metadata": {
        "id": "ddfCp1nSQx15"
      },
      "source": [
        "**Note:**\n",
        "\n",
        "- In the context of deep learning, a ***blob*** is also the entire image pre-processed and prepared for classification/training. Such pre-processing usually entails mean subtraction and scaling.\n",
        "\n",
        "- `cv2.dnn.blobFromImage` : a deep learning method from OpenCV that creates 4-dimensional blob from image. Optionally resizes and crops image from center, subtract mean values, scales values by scalefactor, swap Blue and Red channels. \n",
        " - `image` : input image (with 1-, 3- or 4-channels).\n",
        " - `swapRB` :\tflag which indicates that swap first and last channels in 3-channel image is necessary.\n",
        " - `crop` :\tflag which indicates whether image will be cropped after resize or not"
      ]
    },
    {
      "cell_type": "code",
      "metadata": {
        "id": "YyCUw7wCCU4D"
      },
      "source": [
        "blob = cv2.dnn.blobFromImage(img, swapRB=True, crop=False)"
      ],
      "execution_count": null,
      "outputs": []
    },
    {
      "cell_type": "markdown",
      "metadata": {
        "id": "61--Y0drTMyI"
      },
      "source": [
        "**Note:**\n",
        "\n",
        "- `net.setInput(blob)` : Sets the new input value for the network.\n",
        " - \t`blob`: A new blob.\n"
      ]
    },
    {
      "cell_type": "code",
      "metadata": {
        "id": "B7S4cAzKCU4M"
      },
      "source": [
        "net.setInput(blob)"
      ],
      "execution_count": null,
      "outputs": []
    },
    {
      "cell_type": "code",
      "metadata": {
        "id": "R_kAuXlEyMHU",
        "outputId": "1aa2b079-4522-4182-92cb-32618e5f99ce",
        "colab": {
          "base_uri": "https://localhost:8080/"
        }
      },
      "source": [
        "str(type(img))==\"<class 'numpy.ndarray'>\""
      ],
      "execution_count": null,
      "outputs": [
        {
          "output_type": "execute_result",
          "data": {
            "text/plain": [
              "True"
            ]
          },
          "metadata": {
            "tags": []
          },
          "execution_count": 93
        }
      ]
    },
    {
      "cell_type": "markdown",
      "metadata": {
        "id": "_ciVJu48xxp9"
      },
      "source": [
        "This model returns both masks and boxes. \n",
        "\n",
        "**Note:**\n",
        "- `net.forward` : Perform a forward pass of the Mask R-CNN. It returns\n",
        "\n",
        " (1) the bounding box  coordinates\n",
        "of the objects in the image along with classID, confidence scores\n",
        "\n",
        " (2) the pixel-wise segmentation\n",
        "for each specific object\n",
        "\n",
        "from the output layers named as ‘detection_out_final‘ and ‘detection_masks‘ in the network."
      ]
    },
    {
      "cell_type": "code",
      "metadata": {
        "id": "5hoUClKMCU4V"
      },
      "source": [
        "(boxes, masks) = net.forward([\"detection_out_final\",\n",
        "\t\t\"detection_masks\"])\n",
        "# print (\"Shape of boxes\", boxes.shape)\n",
        "# print (\"Shape of masks\", masks.shape)"
      ],
      "execution_count": null,
      "outputs": []
    },
    {
      "cell_type": "code",
      "metadata": {
        "id": "quWJ30Sm64qR",
        "outputId": "bab31ebd-1d98-4305-849d-dc869dee8866",
        "colab": {
          "base_uri": "https://localhost:8080/"
        }
      },
      "source": [
        "type(masks)"
      ],
      "execution_count": null,
      "outputs": [
        {
          "output_type": "execute_result",
          "data": {
            "text/plain": [
              "numpy.ndarray"
            ]
          },
          "metadata": {
            "tags": []
          },
          "execution_count": 95
        }
      ]
    },
    {
      "cell_type": "markdown",
      "metadata": {
        "id": "lXDkimOiCU4d"
      },
      "source": [
        "The boxes have classID, confidence scores and 4 points identifying the bounding box. This bounding box is normalised and has to be multipied by the actual size of the image to get actual values."
      ]
    },
    {
      "cell_type": "markdown",
      "metadata": {
        "id": "SrpxGRHACU4e"
      },
      "source": [
        "The masks have \n",
        "\n",
        "- 100 detections \n",
        "- Each detection has 90 classes\n",
        "- There coordinates of a 15 pointed polygon, each containing a confidence value.\n"
      ]
    },
    {
      "cell_type": "markdown",
      "metadata": {
        "id": "EH5XcRy4CU4g"
      },
      "source": [
        "If the box probability exceeds the threshold, we also process the mask polygons\n",
        "- Map it to the bounding box and identify all pixels that the mask covers\n",
        "- If the pixel confidence exceeds threshold create a mask \n",
        "- ROI is Region of Interest in the actual picture. Lets color of all pixels in the ROI\n",
        "- The color of ROI is made into blend of its actual colors and color allocated to classID\n",
        "Finally everything is printed"
      ]
    },
    {
      "cell_type": "code",
      "metadata": {
        "code_folding": [],
        "id": "WKr_Tz4vCU4h",
        "outputId": "f43db26f-52b5-40ad-ad68-f7906c019cb9",
        "colab": {
          "base_uri": "https://localhost:8080/",
          "height": 1000
        }
      },
      "source": [
        "for i in range(0, boxes.shape[2]): #For each detection\n",
        "    classID = int(boxes[0, 0, i, 1]) #Class ID\n",
        "    confidence = boxes[0, 0, i, 2] #Confidence scores\n",
        "    if confidence > threshold:\n",
        "        (H, W) = img.shape[:2]\n",
        "        box = boxes[0, 0, i, 3:7] * np.array([W, H, W, H]) #Bounding box\n",
        "        (startX, startY, endX, endY) = box.astype(\"int\")\n",
        "        boxW = endX - startX\n",
        "        boxH = endY - startY\n",
        "\n",
        "        # extract the pixel-wise segmentation for the object,       \n",
        "        mask = masks[i, classID]\n",
        "        plt.imshow(mask)\n",
        "        plt.show()\n",
        "        print (\"Shape of individual mask\", mask.shape)\n",
        "        \n",
        "        # resize the mask such that it's the same dimensions of\n",
        "        # the bounding box, and interpolation gives individual pixel positions\n",
        "        mask = cv2.resize(mask, (boxW, boxH), interpolation=cv2.INTER_CUBIC)\n",
        "        print (\"Mask after resize\", mask.shape)\n",
        "        # then finally threshold to create a *binary* mask\n",
        "        mask = (mask > threshold)\n",
        "        print (\"Mask after threshold\", mask.shape)\n",
        "        \n",
        "        # extract the ROI of the image but *only* extracted the\n",
        "        # masked region of the ROI\n",
        "        roi = img[startY:endY, startX:endX][mask]\n",
        "        print (\"ROI Shape\", roi.shape)\n",
        "        # grab the color used to visualize this particular class,\n",
        "        # then create a transparent overlay by blending the color\n",
        "        # with the ROI\n",
        "        color = COLORS[classID]\n",
        "        blended = ((0.4 * color) + (0.6 * roi)).astype(\"uint8\")\n",
        "\n",
        "        # Change the colors in the original to blended color\n",
        "        img[startY:endY, startX:endX][mask] = blended\n",
        "\n",
        "        color = COLORS[classID]\n",
        "        color = [int(c) for c in color]\n",
        "        print (LABELS[classID], color)\n",
        "        cv2.rectangle(img, (startX, startY), (endX, endY), color, 2)\n",
        "        text = \"{}: {:.4f}\".format(LABELS[classID], confidence)\n",
        "        cv2.putText(img, text, (startX, startY - 5), cv2.FONT_HERSHEY_SIMPLEX, 0.5, color, 2)"
      ],
      "execution_count": null,
      "outputs": [
        {
          "output_type": "display_data",
          "data": {
            "image/png": "[encoded data removed]",
            "text/plain": [
              "<Figure size 432x288 with 1 Axes>"
            ]
          },
          "metadata": {
            "tags": [],
            "needs_background": "light"
          }
        },
        {
          "output_type": "stream",
          "text": [
            "Shape of individual mask (15, 15)\n",
            "Mask after resize (328, 148)\n",
            "Mask after threshold (328, 148)\n",
            "ROI Shape (12764, 3)\n",
            "wine glass [156, 21, 112]\n"
          ],
          "name": "stdout"
        },
        {
          "output_type": "display_data",
          "data": {
            "image/png": "[encoded data removed]",
            "text/plain": [
              "<Figure size 432x288 with 1 Axes>"
            ]
          },
          "metadata": {
            "tags": [],
            "needs_background": "light"
          }
        },
        {
          "output_type": "stream",
          "text": [
            "Shape of individual mask (15, 15)\n",
            "Mask after resize (154, 81)\n",
            "Mask after threshold (154, 81)\n",
            "ROI Shape (6072, 3)\n",
            "vase [166, 56, 167]\n"
          ],
          "name": "stdout"
        },
        {
          "output_type": "display_data",
          "data": {
            "image/png": "[encoded data removed]",
            "text/plain": [
              "<Figure size 432x288 with 1 Axes>"
            ]
          },
          "metadata": {
            "tags": [],
            "needs_background": "light"
          }
        },
        {
          "output_type": "stream",
          "text": [
            "Shape of individual mask (15, 15)\n",
            "Mask after resize (344, 83)\n",
            "Mask after threshold (344, 83)\n",
            "ROI Shape (13497, 3)\n",
            "bottle [209, 226, 77]\n"
          ],
          "name": "stdout"
        }
      ]
    },
    {
      "cell_type": "code",
      "metadata": {
        "id": "P8-tMwaTCU4p",
        "outputId": "cd2a0009-686a-460c-b86f-14ef74dd7170",
        "colab": {
          "base_uri": "https://localhost:8080/",
          "height": 287
        }
      },
      "source": [
        "plt.imshow(fixColor(img))"
      ],
      "execution_count": null,
      "outputs": [
        {
          "output_type": "execute_result",
          "data": {
            "text/plain": [
              "<matplotlib.image.AxesImage at 0x7fcee60af0b8>"
            ]
          },
          "metadata": {
            "tags": []
          },
          "execution_count": 97
        },
        {
          "output_type": "display_data",
          "data": {
            "image/png": "[encoded data removed]",
            "text/plain": [
              "<Figure size 432x288 with 1 Axes>"
            ]
          },
          "metadata": {
            "tags": [],
            "needs_background": "light"
          }
        }
      ]
    },
    {
      "cell_type": "code",
      "metadata": {
        "id": "4Ni0i47c9oYC",
        "outputId": "eec13c66-9d28-4b76-f23e-cf0a2ab02d93",
        "colab": {
          "base_uri": "https://localhost:8080/"
        }
      },
      "source": [
        "roi.shape==(13497, 3)"
      ],
      "execution_count": null,
      "outputs": [
        {
          "output_type": "execute_result",
          "data": {
            "text/plain": [
              "True"
            ]
          },
          "metadata": {
            "tags": []
          },
          "execution_count": 98
        }
      ]
    },
    {
      "cell_type": "code",
      "metadata": {
        "id": "Sa62tQ9T92UN",
        "outputId": "7b46f316-47ec-473e-e850-1d8727967f35",
        "colab": {
          "base_uri": "https://localhost:8080/"
        }
      },
      "source": [
        "color==[209, 226, 77]"
      ],
      "execution_count": null,
      "outputs": [
        {
          "output_type": "execute_result",
          "data": {
            "text/plain": [
              "True"
            ]
          },
          "metadata": {
            "tags": []
          },
          "execution_count": 99
        }
      ]
    },
    {
      "cell_type": "code",
      "metadata": {
        "id": "yPBQU6Q5-FFx"
      },
      "source": [
        ""
      ],
      "execution_count": null,
      "outputs": []
    }
  ]
}